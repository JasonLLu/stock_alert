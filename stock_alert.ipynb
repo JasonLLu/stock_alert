{
 "cells": [
  {
   "cell_type": "code",
   "execution_count": 1,
   "metadata": {},
   "outputs": [],
   "source": [
    "from yahoo_fin import stock_info as si\n",
    "from datetime import datetime, timedelta\n",
    "from dateutil.relativedelta import relativedelta\n",
    "import ta\n",
    "import pandas as pd\n",
    "import pandas_datareader as pdr\n",
    "from datetime import datetime\n",
    "import matplotlib.pyplot as plt\n",
    "from twilio.rest import Client"
   ]
  },
  {
   "cell_type": "code",
   "execution_count": 2,
   "metadata": {},
   "outputs": [],
   "source": [
    "# Your Account SID from twilio.com/console\n",
    "account_sid = \"AC14cf677758d72fce425bea5ece5e9e68\"\n",
    "# Your Auth Token from twilio.com/console\n",
    "auth_token  = \"32ea71e4b196cb93e3440158b987a3c9\"\n",
    "client = Client(account_sid, auth_token)"
   ]
  },
  {
   "cell_type": "code",
   "execution_count": 3,
   "metadata": {},
   "outputs": [
    {
     "name": "stdout",
     "output_type": "stream",
     "text": [
      "20 7 2020\n"
     ]
    }
   ],
   "source": [
    "# Get today's date as UTC timestamp\n",
    "today = datetime.today().strftime(\"%d/%m/%Y\")\n",
    "today,tomonth,toyear = today.split(\"/\")\n",
    "today, tomonth, toyear = int(today), int(tomonth), int(toyear)\n",
    "print(today, tomonth, toyear)"
   ]
  },
  {
   "cell_type": "code",
   "execution_count": 4,
   "metadata": {},
   "outputs": [],
   "source": [
    "def get_data(ticker, timeframeyear):\n",
    "    df = pdr.get_data_yahoo(symbols=ticker, start=datetime(toyear, tomonth-2, today), \n",
    "                            end=datetime(toyear, tomonth, today))\n",
    "    \n",
    "    return df"
   ]
  },
  {
   "cell_type": "code",
   "execution_count": 12,
   "metadata": {},
   "outputs": [],
   "source": [
    "def alert(ticker):\n",
    "    data = get_data(ticker, 1)\n",
    "    data = ta.add_all_ta_features(data, open=\"Open\", high=\"High\", low=\"Low\", close=\"Close\", volume=\"Volume\")\n",
    "    \n",
    "    last = data.iloc[-1]\n",
    "    sb = [ticker + \": \"]\n",
    "    send_alert = False\n",
    "    \n",
    "    if last[\"Close\"] >= last[\"volatility_bbh\"]:\n",
    "        sb.append(\"\\n\")\n",
    "        sb.append(\"above high bollinger band\")\n",
    "        send_alert = True\n",
    "    if last[\"Close\"] <= last[\"volatility_bbl\"]:\n",
    "        sb.append(\"\\n\")\n",
    "        sb.append(\"above low bollinger band\")\n",
    "        send_alert = True\n",
    "    if last[\"momentum_rsi\"] >= 70:\n",
    "        sb.append(\"\\n\")\n",
    "        sb.append(\"above RSI\")\n",
    "        send_alert = True\n",
    "    if last[\"momentum_rsi\"] <= 30:\n",
    "        sb.append(\"\\n\")\n",
    "        sb.append(\"below RSI\")\n",
    "        send_alert = True\n",
    "    if last[\"trend_macd_diff\"] == 0:\n",
    "        sb.append(\"\\n\")\n",
    "        sb.append(\"MACD Convergence\")\n",
    "        send_alert = True\n",
    "    \n",
    "    \n",
    "    if send_alert:\n",
    "        text = \"\".join(sb)\n",
    "        #message = client.messages.create(to=\"+16262038321\", from_ = \"+16262038321\", \n",
    "                                         #body = text)\n",
    "        print(text)\n",
    "        #print(\"Message was sent\")\n",
    "    else:\n",
    "        sb.append(\"\\n\")\n",
    "        sb.append(\"No alerts.\")\n",
    "        print(\"\".join(sb))"
   ]
  },
  {
   "cell_type": "code",
   "execution_count": 13,
   "metadata": {},
   "outputs": [],
   "source": [
    "watch_list = [\"spy\",\n",
    "              \"aapl\", \n",
    "              \"nvda\", \n",
    "              \"fb\", \n",
    "              \"msft\", \n",
    "              \"spce\",\n",
    "             \"amd\",\n",
    "             \"dis\",\n",
    "             \"tlt\",\n",
    "             \"z\",\n",
    "             \"nke\",\n",
    "             \"jets\",\n",
    "             \"ba\",\n",
    "             \"nflx\",\n",
    "             \"atvi\",\n",
    "             \"intc\",\n",
    "             \"spot\",\n",
    "             \"tsla\",\n",
    "             \"sbux\",\n",
    "             \"mtch\",\n",
    "             \"chgg\",\n",
    "             \"ebay\",\n",
    "             \"wmt\"]"
   ]
  },
  {
   "cell_type": "code",
   "execution_count": 15,
   "metadata": {},
   "outputs": [
    {
     "name": "stdout",
     "output_type": "stream",
     "text": [
      "_______________________________________\n",
      "spy: \n",
      "No alerts.\n",
      "_______________________________________\n",
      "aapl: \n",
      "above RSI\n",
      "_______________________________________\n",
      "nvda: \n",
      "No alerts.\n",
      "_______________________________________\n",
      "fb: \n",
      "No alerts.\n",
      "_______________________________________\n",
      "msft: \n",
      "No alerts.\n",
      "_______________________________________\n",
      "spce: \n",
      "above high bollinger band\n",
      "above RSI\n",
      "_______________________________________\n",
      "amd: \n",
      "No alerts.\n",
      "_______________________________________\n",
      "dis: \n",
      "No alerts.\n",
      "_______________________________________\n",
      "tlt: \n",
      "No alerts.\n",
      "_______________________________________\n",
      "z: \n",
      "above high bollinger band\n",
      "_______________________________________\n",
      "nke: \n",
      "No alerts.\n",
      "_______________________________________\n",
      "jets: \n",
      "No alerts.\n",
      "_______________________________________\n",
      "ba: \n",
      "No alerts.\n",
      "_______________________________________\n",
      "nflx: \n",
      "No alerts.\n",
      "_______________________________________\n",
      "atvi: \n",
      "No alerts.\n",
      "_______________________________________\n",
      "intc: \n",
      "above high bollinger band\n",
      "_______________________________________\n",
      "spot: \n",
      "above high bollinger band\n",
      "above RSI\n",
      "_______________________________________\n",
      "tsla: \n",
      "above RSI\n",
      "_______________________________________\n",
      "sbux: \n",
      "No alerts.\n",
      "_______________________________________\n",
      "mtch: \n",
      "No alerts.\n",
      "_______________________________________\n",
      "chgg: \n",
      "above high bollinger band\n",
      "_______________________________________\n",
      "ebay: \n",
      "above RSI\n",
      "_______________________________________\n",
      "wmt: \n",
      "No alerts.\n"
     ]
    }
   ],
   "source": [
    "for ticker in watch_list:\n",
    "    print(\"_______________________________________\")\n",
    "    alert(ticker)"
   ]
  },
  {
   "cell_type": "code",
   "execution_count": null,
   "metadata": {},
   "outputs": [],
   "source": []
  }
 ],
 "metadata": {
  "kernelspec": {
   "display_name": "stockEnv",
   "language": "python",
   "name": "stockenv"
  },
  "language_info": {
   "codemirror_mode": {
    "name": "ipython",
    "version": 3
   },
   "file_extension": ".py",
   "mimetype": "text/x-python",
   "name": "python",
   "nbconvert_exporter": "python",
   "pygments_lexer": "ipython3",
   "version": "3.6.10"
  }
 },
 "nbformat": 4,
 "nbformat_minor": 4
}
